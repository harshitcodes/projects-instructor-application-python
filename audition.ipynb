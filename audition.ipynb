{
 "cells": [
  {
   "cell_type": "markdown",
   "metadata": {
    "collapsed": true
   },
   "source": [
    "Welcome to your DataCamp project audition! This notebook must be filled out and vetted before a contract can be signed and you can start creating your project.\n",
    "\n",
    "The first step is forking the repository in which this notebook lives. After that, there are two parts to be completed in this notebook:\n",
    "\n",
    "- **Project information**:  The title of the project, a project description, etc.\n",
    "\n",
    "- **Project introduction**: The three first text and code cells that will form the introduction of your project.\n",
    "\n",
    "When complete, please email the link to your forked repo to projects@datacamp.com with the email subject line _DataCamp project audition_. If you have any questions, please reach out to projects@datacamp.com."
   ]
  },
  {
   "cell_type": "markdown",
   "metadata": {},
   "source": [
    "# Project information"
   ]
  },
  {
   "cell_type": "markdown",
   "metadata": {},
   "source": [
    "**Project title**: **Algorithmic Trading with Python** Maximum 41 characters.\n",
    "\n",
    "**Name:** **Harshit Tyagi**\n",
    "\n",
    "**Email address associated with your DataCamp account:** harshit.bvcoe@gmail.com\n",
    "\n",
    "**GitHub username:** harshitcodes.\n",
    "\n",
    "**Project description**: In this project, we’ll learn the fundamentals of quantitative analysis, from data processing to backtesting your strategy. We will use Python to work with historical stock data, develop trading strategies based on the momentum indicator. Performing a statistical test on the mean of the returns to conclude if there is alpha in the signal.\n",
    "\n",
    "- Build upon the fundamentals of statistics, linear algebra and calculus to predict the returns of stock prices in the your portfolio. Backtest the algorithm/strategy to see it perform on the present data. Learn the art of comprehending risk metrics in the quant world like Alpha, Beta, Sharpe ratio, Volatility and Benchmark returns.\n",
    "- Here are the pre-requirsites to get the most out of this project: \n",
    "    Fundamentals of Python Programming, Pandas, Matplotlib\n",
    "    Basics of Statistics(Mean, variance, p-value, standard deviation, etc), Linear Algebra.\n",
    "    Basics of finance (you can read Python for finance for starters)\n",
    "   \n",
    "- Here is the link to the End of Day stock prices of Apple(company) which are extracted from quandle\n",
    "    [https://drive.google.com/open?id=1qwVGElCrE5X7M3L_MhAjtJ0mcs0AOacz](https://drive.google.com/open?id=1qwVGElCrE5X7M3L_MhAjtJ0mcs0AOacz)"
   ]
  },
  {
   "cell_type": "markdown",
   "metadata": {},
   "source": [
    "# Project introduction\n",
    "\n",
    "***Note: nothing needs to be filled out in this cell. It is simply setting up the template cells below.***\n",
    "\n",
    "The final output of a DataCamp project looks like a blog post: pairs of text and code cells that tell a story about data. The text is written from the perspective of the data analyst and *not* from the perspective of an instructor on DataCamp. So, for this blog post intro, all you need to do is pretend like you're writing a blog post -- forget the part about instructors and students.\n",
    "\n",
    "Below you'll see the structure of a DataCamp project: a series of \"tasks\" where each task consists of a title, a **single** text cell, and a **single** code cell. There are 8-12 tasks in a project and each task can have up to 10 lines of code. What you need to do:\n",
    "1. Read through the template structure.\n",
    "2. As best you can, divide your project as it is currently visualized in your mind into tasks.\n",
    "3. Fill out the template structure for the first three tasks of your project.\n",
    "\n",
    "As you are completing each task, you may wish to consult the project notebook format in our [documentation](https://instructor-support.datacamp.com/projects/datacamp-projects-jupyter-notebook). Only the `@context` and `@solution` cells are relevant to this audition."
   ]
  },
  {
   "cell_type": "markdown",
   "metadata": {},
   "source": [
    "## 1. Loading the data into dataframe"
   ]
  },
  {
   "cell_type": "markdown",
   "metadata": {},
   "source": [
    "We are going to analyse the end of day stock prices of the Apple company and apply a stock trading strategy called on the data. Writing an algorithm which can create money has always been the fight in the quantitative world.\n",
    "\n",
    "We'll be evaluating the returns from the stock prices for different sub strategies and backtest the results using basic statistical concepts like p-value, sharpe ratio etc. Based on the results of the strategy and the risk assessment of the strategy we'll be in a position to make the trade in the live market.\n",
    "\n",
    "Momentum trading focus on acceleration in a stock’s price or in a company’s earnings or revenues. We can then take on a long or short position in the stock, in the hopes that the momentum will continue in the same direction and provide good returns on our investment.\n",
    "\n",
    "\n",
    "An exciting intro to the analysis. Provide context on the problem you're going to solve, the dataset(s) you're going to use, the relevant industry, etc. You may wish to briefly introduce the techniques you're going to use. Tell a story to get students excited! It should at most have 1200 characters.\n",
    "\n",
    "![alt text](https://github.com/adam-p/markdown-here/raw/master/src/common/images/icon48.png)\n",
    "\n",
    "The most common error instructors make in **context cells** is referring to the student or the project. We want project notebooks to appear as a blog post or a data analysis. Bad: *\"In this project, you will...\"* Good: *\"In this notebook, we will...\"*\n",
    "\n",
    "The first task in projects often involve loading data. Please store any data files you use in the `datasets/` folder in this repository.\n",
    "\n",
    "Images are welcome additions to every Markdown cell, but especially this first one. Make sure the images you use have a [permissive license](https://support.google.com/websearch/answer/29508?hl=en) and display them using [Markdown](https://github.com/adam-p/markdown-here/wiki/Markdown-Cheatsheet#images). Store your images in the `img/` folder in this repository."
   ]
  },
  {
   "cell_type": "code",
   "execution_count": 1,
   "metadata": {},
   "outputs": [
    {
     "ename": "ModuleNotFoundError",
     "evalue": "No module named 'numpy'",
     "output_type": "error",
     "traceback": [
      "\u001b[0;31m---------------------------------------------------------------------------\u001b[0m",
      "\u001b[0;31mModuleNotFoundError\u001b[0m                       Traceback (most recent call last)",
      "\u001b[0;32m<ipython-input-1-6cba8f54f587>\u001b[0m in \u001b[0;36m<module>\u001b[0;34m\u001b[0m\n\u001b[1;32m      6\u001b[0m \u001b[0;31m# manipulating and plotting the data\u001b[0m\u001b[0;34m\u001b[0m\u001b[0;34m\u001b[0m\u001b[0m\n\u001b[1;32m      7\u001b[0m \u001b[0;34m\u001b[0m\u001b[0m\n\u001b[0;32m----> 8\u001b[0;31m \u001b[0;32mimport\u001b[0m \u001b[0mnumpy\u001b[0m \u001b[0;32mas\u001b[0m \u001b[0mnp\u001b[0m\u001b[0;34m\u001b[0m\u001b[0m\n\u001b[0m\u001b[1;32m      9\u001b[0m \u001b[0;32mimport\u001b[0m \u001b[0mpandas\u001b[0m \u001b[0;32mas\u001b[0m \u001b[0mpd\u001b[0m\u001b[0;34m\u001b[0m\u001b[0m\n\u001b[1;32m     10\u001b[0m \u001b[0;34m\u001b[0m\u001b[0m\n",
      "\u001b[0;31mModuleNotFoundError\u001b[0m: No module named 'numpy'"
     ]
    }
   ],
   "source": [
    "# Importing the required python packages for reading, \n",
    "# manipulating and plotting the data\n",
    "\n",
    "import numpy as np\n",
    "import pandas as pd\n",
    "\n",
    "import matplotlib.pyplot as plt\n",
    "%matplotlib inline\n",
    "import seaborn as sns; sns.set()  # 1\n",
    "\n",
    "stock_df = pd.read_csv('./datasets/apple_stock_eod_prices.csv')\n",
    "stock_df.head()"
   ]
  },
  {
   "cell_type": "markdown",
   "metadata": {},
   "source": [
    "## 2. Exploratory data analysis"
   ]
  },
  {
   "cell_type": "markdown",
   "metadata": {},
   "source": [
    "Exploratory data analysis (EDA) is a crucial component of data science which allows you to develop the gist of what your data look like and what kinds of questions might be answered by them.\n",
    "\n",
    "We'll figure out what all columns are worth analysing and what's not worth our time.\n",
    "1. Cleansing: Checking for problems with the collected data, such as missing data or measurement error, data type of columns, etc.)\n",
    "2. Normality check: First, log-normality: if we assume that prices are distributed log normally (which, in practice, may or may not be true for any given price series). This is handy given much of classic statistics presumes normality.\n",
    "3. After analysing the data, we see that log returns will give us normal distribution which will help us backtest our strategy using statistics.\n",
    "\n",
    "The most common error instructors make in **context cells** is referring to the student or the project. We want project notebooks to appear as a blog post or a data analysis. Bad: *\"In this task, you will...\"* Good: *\"Next, we will...\"*"
   ]
  },
  {
   "cell_type": "code",
   "execution_count": 4,
   "metadata": {},
   "outputs": [
    {
     "ename": "NameError",
     "evalue": "name 'stock_df' is not defined",
     "output_type": "error",
     "traceback": [
      "\u001b[0;31m---------------------------------------------------------------------------\u001b[0m",
      "\u001b[0;31mNameError\u001b[0m                                 Traceback (most recent call last)",
      "\u001b[0;32m<ipython-input-4-6313d775e840>\u001b[0m in \u001b[0;36m<module>\u001b[0;34m\u001b[0m\n\u001b[1;32m      7\u001b[0m \u001b[0;31m# no column should have an object datatype or we'll convert it to\u001b[0m\u001b[0;34m\u001b[0m\u001b[0;34m\u001b[0m\u001b[0m\n\u001b[1;32m      8\u001b[0m \u001b[0;34m\u001b[0m\u001b[0m\n\u001b[0;32m----> 9\u001b[0;31m \u001b[0mprint\u001b[0m\u001b[0;34m(\u001b[0m\u001b[0mstock_df\u001b[0m\u001b[0;34m.\u001b[0m\u001b[0minfo\u001b[0m\u001b[0;34m(\u001b[0m\u001b[0;34m)\u001b[0m\u001b[0;34m)\u001b[0m\u001b[0;34m\u001b[0m\u001b[0m\n\u001b[0m\u001b[1;32m     10\u001b[0m \u001b[0;34m\u001b[0m\u001b[0m\n\u001b[1;32m     11\u001b[0m \u001b[0;31m# To implement the momentum strategy, we are going to need\u001b[0m\u001b[0;34m\u001b[0m\u001b[0;34m\u001b[0m\u001b[0m\n",
      "\u001b[0;31mNameError\u001b[0m: name 'stock_df' is not defined"
     ]
    }
   ],
   "source": [
    "# print the stock_df dataframe information\n",
    "# 1. Check for the datatypes of all the columns,\n",
    "# 2. no column should have an object datatype\n",
    "# 3. Check the index of the dataframe, should be a datetime index \n",
    "# because this is a time series analysis\n",
    "print(stock_df.info())\n",
    "\n",
    "# Normality check by plotting the data:\n",
    "stock_data.plot()\n",
    "\n",
    "# Adding a returns column in the dataframe which will record the log returns\n",
    "# by dividing the closing price of day i by closing price of day (i-1)\n",
    "# Use the shift function in pandas to calculate logarithmic return\n",
    "\n",
    "stock_df['returns'] = np.log(stock_df['close'] / stock_df['close'].shift(1))  # 12"
   ]
  },
  {
   "cell_type": "markdown",
   "metadata": {},
   "source": [
    "## 3. Formalize the strategy"
   ]
  },
  {
   "cell_type": "markdown",
   "metadata": {},
   "source": [
    "The strategy rules are as follows:\n",
    "\n",
    "1. Yesterday must have been a low day with a drop of at least 0.25%\n",
    "2. If AAPL opens down by more than 0.1% today, go long and exit on close.\n"
   ]
  },
  {
   "cell_type": "code",
   "execution_count": 3,
   "metadata": {
    "collapsed": true
   },
   "outputs": [],
   "source": [
    "# Code and comments for the third task\n",
    "# It should consist of up to 10 lines of code (not including comments)\n",
    "# and take at most 10 seconds to execute on an average laptop.\n",
    "\n",
    "# To backtest the strategy we have created a new dataframe 3 new columns\n",
    "\n",
    "strat_data = pd.DataFrame(index=data.index)\n",
    "strat_data['cc'] = data['Close'].pct_change()*100   # close to close change in percent\n",
    "strat_data['co'] = (data['Open']/data['Close'].shift(1)-1)*100   # previous close to open in %\n",
    "strat_data['oc'] = (data['Close']/data['Open']-1)*100   # open to close change in percent\n",
    "strat_data.head()\n",
    "strat_data.plot()"
   ]
  },
  {
   "cell_type": "markdown",
   "metadata": {},
   "source": [
    "*Stop here! Only the three first tasks. :)*"
   ]
  }
 ],
 "metadata": {
  "kernelspec": {
   "display_name": "Python 3",
   "language": "python",
   "name": "python3"
  },
  "language_info": {
   "codemirror_mode": {
    "name": "ipython",
    "version": 3
   },
   "file_extension": ".py",
   "mimetype": "text/x-python",
   "name": "python",
   "nbconvert_exporter": "python",
   "pygments_lexer": "ipython3",
   "version": "3.6.5"
  }
 },
 "nbformat": 4,
 "nbformat_minor": 2
}
