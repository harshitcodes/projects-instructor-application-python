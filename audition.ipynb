{
 "cells": [
  {
   "cell_type": "markdown",
   "metadata": {
    "collapsed": true
   },
   "source": [
    "Welcome to your DataCamp project audition! This notebook must be filled out and vetted before a contract can be signed and you can start creating your project.\n",
    "\n",
    "The first step is forking the repository in which this notebook lives. After that, there are two parts to be completed in this notebook:\n",
    "\n",
    "- **Project information**:  The title of the project, a project description, etc.\n",
    "\n",
    "- **Project introduction**: The three first text and code cells that will form the introduction of your project.\n",
    "\n",
    "When complete, please email the link to your forked repo to projects@datacamp.com with the email subject line _DataCamp project audition_. If you have any questions, please reach out to projects@datacamp.com."
   ]
  },
  {
   "cell_type": "markdown",
   "metadata": {},
   "source": [
    "# Project information"
   ]
  },
  {
   "cell_type": "markdown",
   "metadata": {},
   "source": [
    "**Project title**: **Algorithmic Trading with Python** Maximum 41 characters.\n",
    "\n",
    "**Name:** **Harshit Tyagi**\n",
    "\n",
    "**Email address associated with your DataCamp account:** harshit.bvcoe@gmail.com\n",
    "\n",
    "**GitHub username:** harshitcodes.\n",
    "\n",
    "**Project description**: In this project, we’ll learn the fundamentals of quantitative analysis, from data processing to backtesting your strategy. We will use Python to work with historical stock data, develop trading strategies based on the momentum indicator. Performing a statistical test on the mean of the returns to conclude if there is alpha in the signal.\n",
    "\n",
    "- Build upon the fundamentals of statistics, linear algebra and calculus to predict the returns of stock prices in the your portfolio. Backtest the algorithm/strategy to see it perform on the present data. Learn the art of comprehending risk metrics in the quant world like Alpha, Beta, Sharpe ratio, Volatility and Benchmark returns.\n",
    "- Here are the pre-requirsites to get the most out of this project: \n",
    "    Fundamentals of Python Programming, Pandas, Matplotlib\n",
    "    Basics of Statistics(Mean, variance, p-value, standard deviation, etc), Linear Algebra.\n",
    "    Basics of finance (you can read Python for finance for starters)\n",
    "   \n",
    "- Here is the link to the End of Day stock prices of Apple(company) which are extracted from quandle\n",
    "    [https://drive.google.com/open?id=1qwVGElCrE5X7M3L_MhAjtJ0mcs0AOacz](https://drive.google.com/open?id=1qwVGElCrE5X7M3L_MhAjtJ0mcs0AOacz)"
   ]
  },
  {
   "cell_type": "markdown",
   "metadata": {},
   "source": [
    "# Project introduction\n",
    "\n",
    "***Note: nothing needs to be filled out in this cell. It is simply setting up the template cells below.***\n",
    "\n",
    "The final output of a DataCamp project looks like a blog post: pairs of text and code cells that tell a story about data. The text is written from the perspective of the data analyst and *not* from the perspective of an instructor on DataCamp. So, for this blog post intro, all you need to do is pretend like you're writing a blog post -- forget the part about instructors and students.\n",
    "\n",
    "Below you'll see the structure of a DataCamp project: a series of \"tasks\" where each task consists of a title, a **single** text cell, and a **single** code cell. There are 8-12 tasks in a project and each task can have up to 10 lines of code. What you need to do:\n",
    "1. Read through the template structure.\n",
    "2. As best you can, divide your project as it is currently visualized in your mind into tasks.\n",
    "3. Fill out the template structure for the first three tasks of your project.\n",
    "\n",
    "As you are completing each task, you may wish to consult the project notebook format in our [documentation](https://instructor-support.datacamp.com/projects/datacamp-projects-jupyter-notebook). Only the `@context` and `@solution` cells are relevant to this audition."
   ]
  },
  {
   "cell_type": "markdown",
   "metadata": {},
   "source": [
    "## 1. Loading the data into dataframe"
   ]
  },
  {
   "cell_type": "markdown",
   "metadata": {},
   "source": [
    "We are going to analyse the end of day stock prices of the Apple company and apply a stock trading strategy called on the data. Writing an algorithm which can create money has always been the fight in the quantitative world.\n",
    "\n",
    "We'll be evaluating the returns from the stock prices for different sub strategies and backtest the results using basic statistical concepts like p-value, sharpe ratio etc. Based on the results of the strategy and the risk assessment of the strategy we'll be in a position to make the trade in the live market.\n",
    "\n",
    "Momentum trading focus on acceleration in a stock’s price or in a company’s earnings or revenues. We can then take on a long or short position in the stock, in the hopes that the momentum will continue in the same direction and provide good returns on our investment.\n",
    "\n",
    "\n",
    "An exciting intro to the analysis. Provide context on the problem you're going to solve, the dataset(s) you're going to use, the relevant industry, etc. You may wish to briefly introduce the techniques you're going to use. Tell a story to get students excited! It should at most have 1200 characters.![Algo Trading](https://github.com/harshitcodes/projects-instructor-application-python/blob/master/img/stephen-dawson-670638-unsplash.jpg)\n",
    "\n",
    "The most common error instructors make in **context cells** is referring to the student or the project. We want project notebooks to appear as a blog post or a data analysis. Bad: *\"In this project, you will...\"* Good: *\"In this notebook, we will...\"*\n",
    "\n",
    "The first task in projects often involve loading data. Please store any data files you use in the `datasets/` folder in this repository.\n",
    "\n",
    "Images are welcome additions to every Markdown cell, but especially this first one. Make sure the images you use have a [permissive license](https://support.google.com/websearch/answer/29508?hl=en) and display them using [Markdown](https://github.com/adam-p/markdown-here/wiki/Markdown-Cheatsheet#images). Store your images in the `img/` folder in this repository."
   ]
  },
  {
   "cell_type": "code",
   "execution_count": 6,
   "metadata": {},
   "outputs": [
    {
     "data": {
      "text/html": [
       "<div>\n",
       "<style scoped>\n",
       "    .dataframe tbody tr th:only-of-type {\n",
       "        vertical-align: middle;\n",
       "    }\n",
       "\n",
       "    .dataframe tbody tr th {\n",
       "        vertical-align: top;\n",
       "    }\n",
       "\n",
       "    .dataframe thead th {\n",
       "        text-align: right;\n",
       "    }\n",
       "</style>\n",
       "<table border=\"1\" class=\"dataframe\">\n",
       "  <thead>\n",
       "    <tr style=\"text-align: right;\">\n",
       "      <th></th>\n",
       "      <th>Date</th>\n",
       "      <th>Open</th>\n",
       "      <th>High</th>\n",
       "      <th>Low</th>\n",
       "      <th>Close</th>\n",
       "      <th>Volume</th>\n",
       "      <th>Dividend</th>\n",
       "      <th>Split</th>\n",
       "      <th>Adj_Open</th>\n",
       "      <th>Adj_High</th>\n",
       "      <th>Adj_Low</th>\n",
       "      <th>Adj_Close</th>\n",
       "      <th>Adj_Volume</th>\n",
       "    </tr>\n",
       "  </thead>\n",
       "  <tbody>\n",
       "    <tr>\n",
       "      <th>0</th>\n",
       "      <td>2010-01-04</td>\n",
       "      <td>213.43</td>\n",
       "      <td>214.50</td>\n",
       "      <td>212.38</td>\n",
       "      <td>214.01</td>\n",
       "      <td>17633200.0</td>\n",
       "      <td>0.0</td>\n",
       "      <td>1.0</td>\n",
       "      <td>26.926265</td>\n",
       "      <td>27.061256</td>\n",
       "      <td>26.793797</td>\n",
       "      <td>26.999437</td>\n",
       "      <td>123432400.0</td>\n",
       "    </tr>\n",
       "    <tr>\n",
       "      <th>1</th>\n",
       "      <td>2010-01-05</td>\n",
       "      <td>214.60</td>\n",
       "      <td>215.59</td>\n",
       "      <td>213.25</td>\n",
       "      <td>214.38</td>\n",
       "      <td>21496600.0</td>\n",
       "      <td>0.0</td>\n",
       "      <td>1.0</td>\n",
       "      <td>27.073872</td>\n",
       "      <td>27.198770</td>\n",
       "      <td>26.903556</td>\n",
       "      <td>27.046116</td>\n",
       "      <td>150476200.0</td>\n",
       "    </tr>\n",
       "    <tr>\n",
       "      <th>2</th>\n",
       "      <td>2010-01-06</td>\n",
       "      <td>214.38</td>\n",
       "      <td>215.23</td>\n",
       "      <td>210.75</td>\n",
       "      <td>210.97</td>\n",
       "      <td>19720000.0</td>\n",
       "      <td>0.0</td>\n",
       "      <td>1.0</td>\n",
       "      <td>27.046116</td>\n",
       "      <td>27.153352</td>\n",
       "      <td>26.588157</td>\n",
       "      <td>26.615912</td>\n",
       "      <td>138040000.0</td>\n",
       "    </tr>\n",
       "    <tr>\n",
       "      <th>3</th>\n",
       "      <td>2010-01-07</td>\n",
       "      <td>211.75</td>\n",
       "      <td>212.00</td>\n",
       "      <td>209.05</td>\n",
       "      <td>210.58</td>\n",
       "      <td>17040400.0</td>\n",
       "      <td>0.0</td>\n",
       "      <td>1.0</td>\n",
       "      <td>26.714316</td>\n",
       "      <td>26.745856</td>\n",
       "      <td>26.373685</td>\n",
       "      <td>26.566710</td>\n",
       "      <td>119282800.0</td>\n",
       "    </tr>\n",
       "    <tr>\n",
       "      <th>4</th>\n",
       "      <td>2010-01-08</td>\n",
       "      <td>210.30</td>\n",
       "      <td>212.00</td>\n",
       "      <td>209.06</td>\n",
       "      <td>211.98</td>\n",
       "      <td>15986100.0</td>\n",
       "      <td>0.0</td>\n",
       "      <td>1.0</td>\n",
       "      <td>26.531385</td>\n",
       "      <td>26.745856</td>\n",
       "      <td>26.374947</td>\n",
       "      <td>26.743333</td>\n",
       "      <td>111902700.0</td>\n",
       "    </tr>\n",
       "  </tbody>\n",
       "</table>\n",
       "</div>"
      ],
      "text/plain": [
       "         Date    Open    High     Low   Close      Volume  Dividend  Split  \\\n",
       "0  2010-01-04  213.43  214.50  212.38  214.01  17633200.0       0.0    1.0   \n",
       "1  2010-01-05  214.60  215.59  213.25  214.38  21496600.0       0.0    1.0   \n",
       "2  2010-01-06  214.38  215.23  210.75  210.97  19720000.0       0.0    1.0   \n",
       "3  2010-01-07  211.75  212.00  209.05  210.58  17040400.0       0.0    1.0   \n",
       "4  2010-01-08  210.30  212.00  209.06  211.98  15986100.0       0.0    1.0   \n",
       "\n",
       "    Adj_Open   Adj_High    Adj_Low  Adj_Close   Adj_Volume  \n",
       "0  26.926265  27.061256  26.793797  26.999437  123432400.0  \n",
       "1  27.073872  27.198770  26.903556  27.046116  150476200.0  \n",
       "2  27.046116  27.153352  26.588157  26.615912  138040000.0  \n",
       "3  26.714316  26.745856  26.373685  26.566710  119282800.0  \n",
       "4  26.531385  26.745856  26.374947  26.743333  111902700.0  "
      ]
     },
     "execution_count": 6,
     "metadata": {},
     "output_type": "execute_result"
    }
   ],
   "source": [
    "# Importing the required python packages for reading, \n",
    "# manipulating and plotting the data\n",
    "\n",
    "import numpy as np\n",
    "import pandas as pd\n",
    "\n",
    "import matplotlib.pyplot as plt\n",
    "%matplotlib inline\n",
    "\n",
    "stock_df = pd.read_csv('./datasets/apple_stock_eod_prices.csv')\n",
    "stock_df.head()"
   ]
  },
  {
   "cell_type": "markdown",
   "metadata": {},
   "source": [
    "## 2. Exploratory data analysis"
   ]
  },
  {
   "cell_type": "markdown",
   "metadata": {},
   "source": [
    "Exploratory data analysis (EDA) is a crucial component of data science which allows you to develop the gist of what your data look like and what kinds of questions might be answered by them.\n",
    "\n",
    "We'll figure out what all columns are worth analysing and what's not worth our time.\n",
    "1. Cleansing: Checking for problems with the collected data, such as missing data or measurement error, data type of columns, etc.)\n",
    "2. Normality check: First, log-normality: if we assume that prices are distributed log normally (which, in practice, may or may not be true for any given price series). This is handy given much of classic statistics presumes normality.\n",
    "3. After analysing the data, we see that log returns will give us normal distribution which will help us backtest our strategy using statistics.\n",
    "\n",
    "The most common error instructors make in **context cells** is referring to the student or the project. We want project notebooks to appear as a blog post or a data analysis. Bad: *\"In this task, you will...\"* Good: *\"Next, we will...\"*"
   ]
  },
  {
   "cell_type": "code",
   "execution_count": 10,
   "metadata": {},
   "outputs": [
    {
     "name": "stdout",
     "output_type": "stream",
     "text": [
      "<class 'pandas.core.frame.DataFrame'>\n",
      "RangeIndex: 2245 entries, 0 to 2244\n",
      "Data columns (total 14 columns):\n",
      "Date          2245 non-null object\n",
      "Open          2245 non-null float64\n",
      "High          2245 non-null float64\n",
      "Low           2245 non-null float64\n",
      "Close         2245 non-null float64\n",
      "Volume        2245 non-null float64\n",
      "Dividend      2245 non-null float64\n",
      "Split         2245 non-null float64\n",
      "Adj_Open      2245 non-null float64\n",
      "Adj_High      2245 non-null float64\n",
      "Adj_Low       2245 non-null float64\n",
      "Adj_Close     2245 non-null float64\n",
      "Adj_Volume    2245 non-null float64\n",
      "returns       2244 non-null float64\n",
      "dtypes: float64(13), object(1)\n",
      "memory usage: 245.6+ KB\n",
      "None\n"
     ]
    },
    {
     "data": {
      "text/html": [
       "<div>\n",
       "<style scoped>\n",
       "    .dataframe tbody tr th:only-of-type {\n",
       "        vertical-align: middle;\n",
       "    }\n",
       "\n",
       "    .dataframe tbody tr th {\n",
       "        vertical-align: top;\n",
       "    }\n",
       "\n",
       "    .dataframe thead th {\n",
       "        text-align: right;\n",
       "    }\n",
       "</style>\n",
       "<table border=\"1\" class=\"dataframe\">\n",
       "  <thead>\n",
       "    <tr style=\"text-align: right;\">\n",
       "      <th></th>\n",
       "      <th>Date</th>\n",
       "      <th>Open</th>\n",
       "      <th>High</th>\n",
       "      <th>Low</th>\n",
       "      <th>Close</th>\n",
       "      <th>Volume</th>\n",
       "      <th>Dividend</th>\n",
       "      <th>Split</th>\n",
       "      <th>Adj_Open</th>\n",
       "      <th>Adj_High</th>\n",
       "      <th>Adj_Low</th>\n",
       "      <th>Adj_Close</th>\n",
       "      <th>Adj_Volume</th>\n",
       "      <th>returns</th>\n",
       "    </tr>\n",
       "  </thead>\n",
       "  <tbody>\n",
       "    <tr>\n",
       "      <th>0</th>\n",
       "      <td>2010-01-04</td>\n",
       "      <td>213.43</td>\n",
       "      <td>214.50</td>\n",
       "      <td>212.38</td>\n",
       "      <td>214.01</td>\n",
       "      <td>17633200.0</td>\n",
       "      <td>0.0</td>\n",
       "      <td>1.0</td>\n",
       "      <td>26.926265</td>\n",
       "      <td>27.061256</td>\n",
       "      <td>26.793797</td>\n",
       "      <td>26.999437</td>\n",
       "      <td>123432400.0</td>\n",
       "      <td>NaN</td>\n",
       "    </tr>\n",
       "    <tr>\n",
       "      <th>1</th>\n",
       "      <td>2010-01-05</td>\n",
       "      <td>214.60</td>\n",
       "      <td>215.59</td>\n",
       "      <td>213.25</td>\n",
       "      <td>214.38</td>\n",
       "      <td>21496600.0</td>\n",
       "      <td>0.0</td>\n",
       "      <td>1.0</td>\n",
       "      <td>27.073872</td>\n",
       "      <td>27.198770</td>\n",
       "      <td>26.903556</td>\n",
       "      <td>27.046116</td>\n",
       "      <td>150476200.0</td>\n",
       "      <td>0.001727</td>\n",
       "    </tr>\n",
       "    <tr>\n",
       "      <th>2</th>\n",
       "      <td>2010-01-06</td>\n",
       "      <td>214.38</td>\n",
       "      <td>215.23</td>\n",
       "      <td>210.75</td>\n",
       "      <td>210.97</td>\n",
       "      <td>19720000.0</td>\n",
       "      <td>0.0</td>\n",
       "      <td>1.0</td>\n",
       "      <td>27.046116</td>\n",
       "      <td>27.153352</td>\n",
       "      <td>26.588157</td>\n",
       "      <td>26.615912</td>\n",
       "      <td>138040000.0</td>\n",
       "      <td>-0.016034</td>\n",
       "    </tr>\n",
       "    <tr>\n",
       "      <th>3</th>\n",
       "      <td>2010-01-07</td>\n",
       "      <td>211.75</td>\n",
       "      <td>212.00</td>\n",
       "      <td>209.05</td>\n",
       "      <td>210.58</td>\n",
       "      <td>17040400.0</td>\n",
       "      <td>0.0</td>\n",
       "      <td>1.0</td>\n",
       "      <td>26.714316</td>\n",
       "      <td>26.745856</td>\n",
       "      <td>26.373685</td>\n",
       "      <td>26.566710</td>\n",
       "      <td>119282800.0</td>\n",
       "      <td>-0.001850</td>\n",
       "    </tr>\n",
       "    <tr>\n",
       "      <th>4</th>\n",
       "      <td>2010-01-08</td>\n",
       "      <td>210.30</td>\n",
       "      <td>212.00</td>\n",
       "      <td>209.06</td>\n",
       "      <td>211.98</td>\n",
       "      <td>15986100.0</td>\n",
       "      <td>0.0</td>\n",
       "      <td>1.0</td>\n",
       "      <td>26.531385</td>\n",
       "      <td>26.745856</td>\n",
       "      <td>26.374947</td>\n",
       "      <td>26.743333</td>\n",
       "      <td>111902700.0</td>\n",
       "      <td>0.006626</td>\n",
       "    </tr>\n",
       "  </tbody>\n",
       "</table>\n",
       "</div>"
      ],
      "text/plain": [
       "         Date    Open    High     Low   Close      Volume  Dividend  Split  \\\n",
       "0  2010-01-04  213.43  214.50  212.38  214.01  17633200.0       0.0    1.0   \n",
       "1  2010-01-05  214.60  215.59  213.25  214.38  21496600.0       0.0    1.0   \n",
       "2  2010-01-06  214.38  215.23  210.75  210.97  19720000.0       0.0    1.0   \n",
       "3  2010-01-07  211.75  212.00  209.05  210.58  17040400.0       0.0    1.0   \n",
       "4  2010-01-08  210.30  212.00  209.06  211.98  15986100.0       0.0    1.0   \n",
       "\n",
       "    Adj_Open   Adj_High    Adj_Low  Adj_Close   Adj_Volume   returns  \n",
       "0  26.926265  27.061256  26.793797  26.999437  123432400.0       NaN  \n",
       "1  27.073872  27.198770  26.903556  27.046116  150476200.0  0.001727  \n",
       "2  27.046116  27.153352  26.588157  26.615912  138040000.0 -0.016034  \n",
       "3  26.714316  26.745856  26.373685  26.566710  119282800.0 -0.001850  \n",
       "4  26.531385  26.745856  26.374947  26.743333  111902700.0  0.006626  "
      ]
     },
     "execution_count": 10,
     "metadata": {},
     "output_type": "execute_result"
    },
    {
     "data": {
      "image/png": "[encoded data removed]",
      "text/plain": [
       "<Figure size 432x288 with 1 Axes>"
      ]
     },
     "metadata": {
      "needs_background": "light"
     },
     "output_type": "display_data"
    }
   ],
   "source": [
    "# print the stock_df dataframe information\n",
    "# 1. Check for the datatypes of all the columns,\n",
    "# 2. no column should have an object datatype\n",
    "# 3. Check the index of the dataframe, should be a datetime index \n",
    "# because this is a time series analysis\n",
    "print(stock_df.info())\n",
    "\n",
    "# Normality check by plotting the data:\n",
    "stock_df.plot()\n",
    "\n",
    "# Adding a returns column in the dataframe which will record the log returns\n",
    "# by dividing the closing price of day i by closing price of day (i-1)\n",
    "# Use the shift function in pandas to calculate logarithmic return\n",
    "\n",
    "stock_df['returns'] = np.log(stock_df['Close'] / stock_df['Close'].shift(1))\n",
    "stock_df.head()"
   ]
  },
  {
   "cell_type": "markdown",
   "metadata": {},
   "source": [
    "## 3. Formalize the strategy"
   ]
  },
  {
   "cell_type": "markdown",
   "metadata": {},
   "source": [
    "The strategy rules are as follows:\n",
    "\n",
    "1. Yesterday must have been a low day with a drop of at least 0.25%\n",
    "2. If AAPL opens down by more than 0.1% today, go long and exit on close.\n"
   ]
  },
  {
   "cell_type": "code",
   "execution_count": 14,
   "metadata": {},
   "outputs": [
    {
     "data": {
      "text/plain": [
       "<matplotlib.axes._subplots.AxesSubplot at 0x11377fe80>"
      ]
     },
     "execution_count": 14,
     "metadata": {},
     "output_type": "execute_result"
    },
    {
     "data": {
      "image/png": "[encoded data removed]",
      "text/plain": [
       "<Figure size 432x288 with 1 Axes>"
      ]
     },
     "metadata": {
      "needs_background": "light"
     },
     "output_type": "display_data"
    }
   ],
   "source": [
    "# To backtest the strategy we have created a new dataframe 3 new columns\n",
    "# we'll visualise the strategy data and get a pic\n",
    "\n",
    "strat_data = pd.DataFrame(index=stock_df.index)\n",
    "strat_data['cc'] = stock_df['Close'].pct_change()*100   # close to close change in percent\n",
    "strat_data['co'] = (stock_df['Open']/stock_df['Close'].shift(1)-1)*100   # previous close to open in %\n",
    "strat_data['oc'] = (stock_df['Close']/stock_df['Open']-1)*100   # open to close change in percent\n",
    "strat_data.head()\n",
    "strat_data.plot()"
   ]
  },
  {
   "cell_type": "markdown",
   "metadata": {},
   "source": [
    "*Stop here! Only the three first tasks. :)*"
   ]
  }
 ],
 "metadata": {
  "kernelspec": {
   "display_name": "Python 3",
   "language": "python",
   "name": "python3"
  },
  "language_info": {
   "codemirror_mode": {
    "name": "ipython",
    "version": 3
   },
   "file_extension": ".py",
   "mimetype": "text/x-python",
   "name": "python",
   "nbconvert_exporter": "python",
   "pygments_lexer": "ipython3",
   "version": "3.6.5"
  }
 },
 "nbformat": 4,
 "nbformat_minor": 2
}
